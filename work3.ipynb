{
  "nbformat": 4,
  "nbformat_minor": 0,
  "metadata": {
    "colab": {
      "provenance": [],
      "authorship_tag": "ABX9TyMszyYN3eIHEGnVmxOAxxxz",
      "include_colab_link": true
    },
    "kernelspec": {
      "name": "python3",
      "display_name": "Python 3"
    },
    "language_info": {
      "name": "python"
    }
  },
  "cells": [
    {
      "cell_type": "markdown",
      "metadata": {
        "id": "view-in-github",
        "colab_type": "text"
      },
      "source": [
        "<a href=\"https://colab.research.google.com/github/katapi-zura/Prog2kakushin/blob/main/work3.ipynb\" target=\"_parent\"><img src=\"https://colab.research.google.com/assets/colab-badge.svg\" alt=\"Open In Colab\"/></a>"
      ]
    },
    {
      "cell_type": "markdown",
      "source": [
        "第１４回では、turtleライブラリを用いて、キャラクターの顔面を描画する。"
      ],
      "metadata": {
        "id": "XUzlFyD1yFuA"
      }
    },
    {
      "cell_type": "code",
      "source": [],
      "metadata": {
        "id": "Tuy-PvE_BInQ"
      },
      "execution_count": null,
      "outputs": []
    }
  ]
}