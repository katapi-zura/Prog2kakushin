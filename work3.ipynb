{
  "nbformat": 4,
  "nbformat_minor": 0,
  "metadata": {
    "colab": {
      "provenance": [],
      "authorship_tag": "ABX9TyN/C6RY0nTH1udOTEYlLzQO",
      "include_colab_link": true
    },
    "kernelspec": {
      "name": "python3",
      "display_name": "Python 3"
    },
    "language_info": {
      "name": "python"
    }
  },
  "cells": [
    {
      "cell_type": "markdown",
      "metadata": {
        "id": "view-in-github",
        "colab_type": "text"
      },
      "source": [
        "<a href=\"https://colab.research.google.com/github/katapi-zura/Prog2kakushin/blob/main/work3.ipynb\" target=\"_parent\"><img src=\"https://colab.research.google.com/assets/colab-badge.svg\" alt=\"Open In Colab\"/></a>"
      ]
    },
    {
      "cell_type": "markdown",
      "source": [
        "第１４回では、turtleライブラリを用いて、キャラクターの顔面を描画する。"
      ],
      "metadata": {
        "id": "XUzlFyD1yFuA"
      }
    },
    {
      "cell_type": "code",
      "source": [
        "#まず、colabでturtleが使えるようにする\n",
        "!pip3 install ColabTurtlePlus"
      ],
      "metadata": {
        "id": "6mcfiFCUpzAw"
      },
      "execution_count": null,
      "outputs": []
    },
    {
      "cell_type": "code",
      "source": [
        "#turtleライブラリをインポートする\n",
        "from ColabTurtlePlus.Turtle import *\n",
        "#まず、520*520のキャンパスを作成\n",
        "clearscreen()  \n",
        "setup(520,520)\n",
        "#ここからの工程でアンパンマンという国民的キャラクターを描いていく\n",
        "turtle1=Turtle()\n",
        "turtle1.hideturtle()\n",
        "turtle1.speed(10)  \n",
        "turtle1.pencolor(\"black\")\n",
        "turtle1.fillcolor(250,190,150)\n",
        "turtle1.setpos(0,-240)\n",
        "turtle1.begin_fill() \n",
        "turtle1.circle(240)\n",
        "turtle1.end_fill()\n",
        "turtle1.fillcolor(234,83,4)\n",
        "turtle1.penup()\n",
        "turtle1.setpos(-160,-80)\n",
        "turtle1.begin_fill() \n",
        "turtle1.pendown()\n",
        "turtle1.circle(80)\n",
        "turtle1.end_fill()\n",
        "turtle1.penup()\n",
        "turtle1.setpos(160,-80)\n",
        "turtle1.begin_fill() \n",
        "turtle1.pendown()\n",
        "turtle1.circle(80)\n",
        "turtle1.end_fill()\n",
        "turtle1.penup()\n",
        "turtle1.fillcolor(232,56,12)\n",
        "turtle1.setpos(0,-80)\n",
        "turtle1.begin_fill() \n",
        "turtle1.pendown()\n",
        "turtle1.circle(80)\n",
        "turtle1.end_fill()\n",
        "turtle1.fillcolor(134,74,43)\n",
        "turtle1.penup()\n",
        "turtle1.right(90)\n",
        "turtle1.setpos(-80,-130)\n",
        "turtle1.begin_fill() \n",
        "turtle1.pendown()\n",
        "turtle1.circle(80,180)\n",
        "turtle1.end_fill()\n",
        "turtle1.left(90)\n",
        "turtle1.fillcolor(\"black\")\n",
        "turtle1.penup()\n",
        "turtle1.setpos(-80,120)\n",
        "turtle1.begin_fill() \n",
        "turtle1.pendown()\n",
        "turtle1.circle(20)\n",
        "turtle1.end_fill()\n",
        "turtle1.penup()\n",
        "turtle1.setpos(80,120)\n",
        "turtle1.begin_fill() \n",
        "turtle1.pendown()\n",
        "turtle1.circle(20)\n",
        "turtle1.end_fill()\n",
        "turtle1.right(90)\n",
        "turtle1.penup()\n",
        "turtle1.setpos(-40,120) \n",
        "turtle1.pendown()\n",
        "turtle1.circle(40,180)\n",
        "turtle1.penup()\n",
        "turtle1.right(180)\n",
        "turtle1.setpos(120,120)\n",
        "turtle1.pendown()\n",
        "turtle1.circle(40,180)\n"
      ],
      "metadata": {
        "colab": {
          "base_uri": "https://localhost:8080/",
          "height": 541
        },
        "id": "6_7h_SEVlPb5",
        "outputId": "83ddf590-49b8-429f-e476-65d684a0a225"
      },
      "execution_count": 90,
      "outputs": [
        {
          "output_type": "display_data",
          "data": {
            "text/plain": [
              "<IPython.core.display.HTML object>"
            ],
            "text/html": [
              "\n",
              "      <svg width=\"520\" height=\"520\">  \n",
              "        <rect width=\"100%\" height=\"100%\" style=\"fill:white;stroke:;stroke-width:1\"/>\n",
              "        \n",
              "        \n",
              "        <line x1=\"260.0\" y1=\"260.0\" x2=\"260.0\" y2=\"500.0\" stroke-linecap=\"round\" style=\"stroke:black;stroke-width:1\" /><path fill-rule=\"evenodd\" fill-opacity=\"1\" d=\"M 260.0 500.0  A 240 240 0 0 0 260.0 20.0  A 240 240 0 0 0 260.0 500.0 \" stroke-linecap=\"round\" style=\"stroke:black;stroke-width:1\" fill=\"rgb(250,190,150)\" /><path fill-rule=\"evenodd\" fill-opacity=\"1\" d=\"M 100.0 340.0  A 80 80 0 0 0 100.0 180.0  A 80 80 0 0 0 100.0 340.0 \" stroke-linecap=\"round\" style=\"stroke:black;stroke-width:1\" fill=\"rgb(234,83,4)\" /><path fill-rule=\"evenodd\" fill-opacity=\"1\" d=\"M 420.0 340.0  A 80 80 0 0 0 420.0 180.0  A 80 80 0 0 0 420.0 340.0 \" stroke-linecap=\"round\" style=\"stroke:black;stroke-width:1\" fill=\"rgb(234,83,4)\" /><path fill-rule=\"evenodd\" fill-opacity=\"1\" d=\"M 260.0 340.0  A 80 80 0 0 0 260.0 180.0  A 80 80 0 0 0 260.0 340.0 \" stroke-linecap=\"round\" style=\"stroke:black;stroke-width:1\" fill=\"rgb(232,56,12)\" /><path fill-rule=\"evenodd\" fill-opacity=\"1\" d=\"M 180.0 390.0  A 80 80 0 0 0 340.0 390.0 \" stroke-linecap=\"round\" style=\"stroke:black;stroke-width:1\" fill=\"rgb(134,74,43)\" /><path fill-rule=\"evenodd\" fill-opacity=\"1\" d=\"M 180.0 140.0  A 20 20 0 0 0 180.0 180.0  A 20 20 0 0 0 180.0 140.0 \" stroke-linecap=\"round\" style=\"stroke:black;stroke-width:1\" fill=\"black\" /><path fill-rule=\"evenodd\" fill-opacity=\"1\" d=\"M 340.0 140.0  A 20 20 0 0 0 340.0 180.0  A 20 20 0 0 0 340.0 140.0 \" stroke-linecap=\"round\" style=\"stroke:black;stroke-width:1\" fill=\"black\" /><path d=\"M 220.0 140.0 A 40 40 0 0 0 140.0 140.0\" stroke-linecap=\"round\" \n",
              "            fill=\"transparent\" fill-opacity=\"0\" style=\"stroke:black;stroke-width:1\"/><path d=\"M 380.0 140.0 A 40 40 0 0 0 378.637 129.647\" stroke-linecap=\"round\" \n",
              "            fill=\"transparent\" fill-opacity=\"0\" style=\"stroke:black;stroke-width:1\"/><path d=\"M 378.637 129.647 A 40 40 0 0 0 374.641 120.0\" stroke-linecap=\"round\" \n",
              "            fill=\"transparent\" fill-opacity=\"0\" style=\"stroke:black;stroke-width:1\"/><path d=\"M 374.641 120.0 A 40 40 0 0 0 368.284 111.716\" stroke-linecap=\"round\" \n",
              "            fill=\"transparent\" fill-opacity=\"0\" style=\"stroke:black;stroke-width:1\"/><path d=\"M 368.284 111.716 A 40 40 0 0 0 360.0 105.359\" stroke-linecap=\"round\" \n",
              "            fill=\"transparent\" fill-opacity=\"0\" style=\"stroke:black;stroke-width:1\"/><path d=\"M 360.0 105.359 A 40 40 0 0 0 350.353 101.363\" stroke-linecap=\"round\" \n",
              "            fill=\"transparent\" fill-opacity=\"0\" style=\"stroke:black;stroke-width:1\"/><path d=\"M 350.353 101.363 A 40 40 0 0 0 340.0 100.0\" stroke-linecap=\"round\" \n",
              "            fill=\"transparent\" fill-opacity=\"0\" style=\"stroke:black;stroke-width:1\"/><path d=\"M 340.0 100.0 A 40 40 0 0 0 329.647 101.363\" stroke-linecap=\"round\" \n",
              "            fill=\"transparent\" fill-opacity=\"0\" style=\"stroke:black;stroke-width:1\"/><path d=\"M 329.647 101.363 A 40 40 0 0 0 320.0 105.359\" stroke-linecap=\"round\" \n",
              "            fill=\"transparent\" fill-opacity=\"0\" style=\"stroke:black;stroke-width:1\"/><path d=\"M 320.0 105.359 A 40 40 0 0 0 311.716 111.716\" stroke-linecap=\"round\" \n",
              "            fill=\"transparent\" fill-opacity=\"0\" style=\"stroke:black;stroke-width:1\"/><path d=\"M 311.716 111.716 A 40 40 0 0 0 305.359 120.0\" stroke-linecap=\"round\" \n",
              "            fill=\"transparent\" fill-opacity=\"0\" style=\"stroke:black;stroke-width:1\"/><path d=\"M 305.359 120.0 A 40 40 0 0 0 301.363 129.647\" stroke-linecap=\"round\" \n",
              "            fill=\"transparent\" fill-opacity=\"0\" style=\"stroke:black;stroke-width:1\"/><path d=\"M 301.363 129.647 A 40 40 0 0 0 300.0 140.0\" stroke-linecap=\"round\" \n",
              "            fill=\"transparent\" fill-opacity=\"0\" style=\"stroke:black;stroke-width:1\"/>\n",
              "        \n",
              "        \n",
              "        <g id=\"classic\" visibility=\"hidden\" transform=\"rotate(0.0,300.0,140.0) translate(300.0, 140.0)\">\n",
              "<polygon points=\"-5,-4.5 0,-2.5 5,-4.5 0,4.5\" transform=\"skewX(0) scale(1,1)\" style=\"stroke:black;fill:black;stroke-width:1\" />\n",
              "</g>\n",
              "      </svg>\n",
              "    "
            ]
          },
          "metadata": {}
        }
      ]
    },
    {
      "cell_type": "code",
      "source": [],
      "metadata": {
        "id": "K-DTwgrczrbZ"
      },
      "execution_count": null,
      "outputs": []
    }
  ]
}