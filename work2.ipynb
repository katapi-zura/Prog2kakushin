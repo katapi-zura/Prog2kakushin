{
  "nbformat": 4,
  "nbformat_minor": 0,
  "metadata": {
    "colab": {
      "provenance": [],
      "authorship_tag": "ABX9TyP/y3wfIo3OdEdc/h3FIXMX",
      "include_colab_link": true
    },
    "kernelspec": {
      "name": "python3",
      "display_name": "Python 3"
    },
    "language_info": {
      "name": "python"
    }
  },
  "cells": [
    {
      "cell_type": "markdown",
      "metadata": {
        "id": "view-in-github",
        "colab_type": "text"
      },
      "source": [
        "<a href=\"https://colab.research.google.com/github/katapi-zura/Prog2kakushin/blob/main/work2.ipynb\" target=\"_parent\"><img src=\"https://colab.research.google.com/assets/colab-badge.svg\" alt=\"Open In Colab\"/></a>"
      ]
    },
    {
      "cell_type": "markdown",
      "source": [
        "第１3回では、numpyライブラリに用意されているrandom関数を用いて、数字を入力して遊ぶことのできるミニゲームを作成する。"
      ],
      "metadata": {
        "id": "qCjVmJL056y2"
      }
    },
    {
      "cell_type": "code",
      "source": [],
      "metadata": {
        "id": "cR-67-u0BHxj"
      },
      "execution_count": null,
      "outputs": []
    }
  ]
}