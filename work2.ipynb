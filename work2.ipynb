{
  "nbformat": 4,
  "nbformat_minor": 0,
  "metadata": {
    "colab": {
      "provenance": [],
      "authorship_tag": "ABX9TyMeK6Fa1tvt9c1/RKr+b4wU",
      "include_colab_link": true
    },
    "kernelspec": {
      "name": "python3",
      "display_name": "Python 3"
    },
    "language_info": {
      "name": "python"
    }
  },
  "cells": [
    {
      "cell_type": "markdown",
      "metadata": {
        "id": "view-in-github",
        "colab_type": "text"
      },
      "source": [
        "<a href=\"https://colab.research.google.com/github/katapi-zura/Prog2kakushin/blob/main/work2.ipynb\" target=\"_parent\"><img src=\"https://colab.research.google.com/assets/colab-badge.svg\" alt=\"Open In Colab\"/></a>"
      ]
    },
    {
      "cell_type": "markdown",
      "source": [
        "第１3回では、numpyライブラリに用意されているrandom関数を用いて、数字を入力して遊ぶことのできるミニゲームを作成する。"
      ],
      "metadata": {
        "id": "qCjVmJL056y2"
      }
    },
    {
      "cell_type": "code",
      "source": [
        "#まず、numpyライブラリをインストールする。\n",
        "import numpy as np\n",
        "\n",
        "#まず一つ目に、数字あてゲームを作成する。\n",
        "#入力したのが何回目か、入力された数字と指定された数字の大小がわかるように作成する。\n",
        "#乱数で生成する数字の範囲は1～20,入力回数は10回までとする。\n",
        "x=(np.random.randint(1,20))\n",
        "print(\"1から20までのいずれかの数を当ててください\")\n",
        "a=0\n",
        "while True:\n",
        "  a+=1 \n",
        "  print(f\"{a}回目の入力\")\n",
        "  y=int(input(\"1から20までの整数を入力してください．\"))\n",
        "  if x==y:\n",
        "    print(f\"正解です、設定された数字は{x}でした\")\n",
        "    print(f\"{a}回目の入力で正解しました\")\n",
        "    break\n",
        "  elif x>y:\n",
        "    print(\"設定された値はもっと大きいです\")\n",
        "    print()\n",
        "  else:\n",
        "    print(\"設定された値はもっと小さいです\")\n",
        "    print()\n",
        "  if a==10:\n",
        "    print(f\"既定の入力回数、10回に達しました正解は{x}でした\")\n",
        "    break\n",
        "      \n"
      ],
      "metadata": {
        "id": "cR-67-u0BHxj",
        "colab": {
          "base_uri": "https://localhost:8080/"
        },
        "outputId": "38795fd9-81e6-4b6d-fe68-8383974cfd82"
      },
      "execution_count": 39,
      "outputs": [
        {
          "output_type": "stream",
          "name": "stdout",
          "text": [
            "1から20までのいずれかの数を当ててください\n",
            "1回目の入力\n",
            "1から20までの整数を入力してください．2\n",
            "設定された値はもっと大きいです\n",
            "\n",
            "2回目の入力\n",
            "1から20までの整数を入力してください．5\n",
            "設定された値はもっと大きいです\n",
            "\n",
            "3回目の入力\n",
            "1から20までの整数を入力してください．10\n",
            "設定された値はもっと大きいです\n",
            "\n",
            "4回目の入力\n",
            "1から20までの整数を入力してください．15\n",
            "正解です、設定された数字は15でした\n",
            "4回目の入力で正解しました\n"
          ]
        }
      ]
    },
    {
      "cell_type": "code",
      "source": [
        "#次に、コンピュータと対戦できるじゃんけんを作成する。\n",
        "#ただし、入力するのは0,1,2のいずれかとし、先にどちらかが３勝した時点で3勝した方の勝ちで終了とする。\n",
        "hand ={0:'グー', 1:'チョキ', 2:'パー'}\n",
        "win=0\n",
        "cpuwin=0\n",
        "while True:\n",
        "  you=int(input(\"手を選んでください グー:0 チョキ:1 パー:2  :\"))\n",
        "  cpu=np.random.randint(0,2)\n",
        "  if(you==cpu):\n",
        "    print(f\"あなたは{hand[you]}を出しました\")\n",
        "    print(f\"コンピュータは{hand[cpu]}を出しました\")\n",
        "    print(f\"あいこです 現在{win}勝 cpu{cpuwin}勝\")\n",
        "    print()\n",
        "  elif(you-cpu==-1or cpu-you==-2):\n",
        "    win+=1  \n",
        "    print(f\"あなたは{hand[you]}を出しました\")\n",
        "    print(f\"コンピュータは{hand[cpu]}を出しました\")  \n",
        "    print(f\"あなたの勝ち 現在{win}勝 cpu{cpuwin}勝\")\n",
        "    print()\n",
        "  else:\n",
        "    cpuwin+=1\n",
        "    print(f\"あなたは{hand[you]}を出しました\")\n",
        "    print(f\"コンピュータは{hand[cpu]}を出しました\")\n",
        "    print(f\"コンピュータの勝ち 現在{win}勝 cpu{cpuwin}勝\")\n",
        "    print()  \n",
        "  if win==3:\n",
        "    print(f\"先に3勝したのであなたの勝ちです\")\n",
        "    break\n",
        "    \n",
        "  if cpuwin==3:\n",
        "    print(f\"先に3勝したのでコンピュータの勝ちです\") \n",
        "    break\n",
        "    "
      ],
      "metadata": {
        "colab": {
          "base_uri": "https://localhost:8080/"
        },
        "id": "UUg40HeusrAn",
        "outputId": "ba221022-1bb8-4feb-9d33-4f16c895ee54"
      },
      "execution_count": 36,
      "outputs": [
        {
          "output_type": "stream",
          "name": "stdout",
          "text": [
            "手を選んでください グー:0 チョキ:1 パー:2  :0\n",
            "あなたはグーを出しました\n",
            "コンピュータはグーを出しました\n",
            "あいこです 現在0勝 cpu0勝\n",
            "\n",
            "手を選んでください グー:0 チョキ:1 パー:2  :1\n",
            "あなたはチョキを出しました\n",
            "コンピュータはグーを出しました\n",
            "コンピュータの勝ち 現在0勝 cpu1勝\n",
            "\n",
            "手を選んでください グー:0 チョキ:1 パー:2  :2\n",
            "あなたはパーを出しました\n",
            "コンピュータはチョキを出しました\n",
            "コンピュータの勝ち 現在0勝 cpu2勝\n",
            "\n",
            "手を選んでください グー:0 チョキ:1 パー:2  :2\n",
            "あなたはパーを出しました\n",
            "コンピュータはグーを出しました\n",
            "あなたの勝ち 現在1勝 cpu2勝\n",
            "\n",
            "手を選んでください グー:0 チョキ:1 パー:2  :1\n",
            "あなたはチョキを出しました\n",
            "コンピュータはグーを出しました\n",
            "コンピュータの勝ち 現在1勝 cpu3勝\n",
            "\n",
            "先に3勝したのでコンピュータの勝ちです\n"
          ]
        }
      ]
    }
  ]
}