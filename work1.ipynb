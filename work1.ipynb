{
  "nbformat": 4,
  "nbformat_minor": 0,
  "metadata": {
    "colab": {
      "provenance": [],
      "authorship_tag": "ABX9TyPscyC23CUQFWsuOmnOr/3I",
      "include_colab_link": true
    },
    "kernelspec": {
      "name": "python3",
      "display_name": "Python 3"
    },
    "language_info": {
      "name": "python"
    }
  },
  "cells": [
    {
      "cell_type": "markdown",
      "metadata": {
        "id": "view-in-github",
        "colab_type": "text"
      },
      "source": [
        "<a href=\"https://colab.research.google.com/github/katapi-zura/Prog2kakushin/blob/main/work1.ipynb\" target=\"_parent\"><img src=\"https://colab.research.google.com/assets/colab-badge.svg\" alt=\"Open In Colab\"/></a>"
      ]
    },
    {
      "cell_type": "markdown",
      "source": [
        "第１２回では、pandasライブラリを用いて、厚生労働省hpで公開されている新型コロナウイルスに関するcsvファイルを用いてデータ分析を行う。"
      ],
      "metadata": {
        "id": "wsMZuwj1vohl"
      }
    },
    {
      "cell_type": "code",
      "source": [],
      "metadata": {
        "id": "cdOJsm_qBD4J"
      },
      "execution_count": null,
      "outputs": []
    }
  ]
}